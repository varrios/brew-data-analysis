{
 "nbformat": 4,
 "nbformat_minor": 0,
 "metadata": {
  "colab": {
   "provenance": []
  },
  "kernelspec": {
   "name": "python3",
   "display_name": "Python 3 (ipykernel)",
   "language": "python"
  },
  "language_info": {
   "name": "python"
  }
 },
 "cells": [
  {
   "metadata": {},
   "cell_type": "code",
   "source": [
    "from utility.raport_helper_functions import *\n",
    "recipe_data = load_recipe_data()"
   ],
   "outputs": [],
   "execution_count": null
  },
  {
   "metadata": {
    "id": "9ucxSTSgFZ4v"
   },
   "cell_type": "markdown",
   "source": [
    "# Projekt z przedmiotu *Eksploracja Danych*\n",
    "\n",
    "## Etap 1: Zrozumienie problemu i danych\n",
    "\n",
    "### Analizowany zbiór danych: **Brewer's Friend Beer Recipes**\n",
    "\n",
    "#### Autorzy:\n",
    "- Anna Sztukowska 188803\n",
    "- Michał Sugalski 193290\n",
    "- Lucjan Gackowski 193150\n",
    "\n",
    "#### Ogólny opis zbioru\n",
    "\n",
    "Zbiór **Brewer's Friend Beer Recipes** zawiera dane dotyczące domowych receptur piwa udostępnianych przez użytkowników platformy Brewer's Friend – narzędzia wspierającego amatorskich i półprofesjonalnych piwowarów. Każdy wiersz odpowiada jednej recepturze i zawiera ogólne parametry techniczne związane z procesem warzenia.\n",
    "Dane obejmują szeroki zakres ogólnych parametrów warzenia, takich jak styl piwa, zawartość alkoholu (ABV), poziom goryczki (IBU), kolor (SRM), gęstość początkowa (OG) i końcowa (FG), metoda warzenia (np. all grain, extract), objętości na różnych etapach produkcji, a także temperatury fermentacji.\n",
    "Dane mają postać numeryczną lub kategoryczną i mogą służyć do analizy trendów, porównań stylów piwa, klasteryzacji receptur lub budowy modeli predykcyjnych opartych na parametrach fizykochemicznych trunku.\n",
    "\n",
    "\n",
    "#### Charakterystyka zbioru danych\n",
    "- **Pochodzenie:** Dane zostały zebrane z platformy Brewer's Friend i udostępnione na Kaggle przez użytkownika jtrofe.\n",
    "- **Format:** `.csv`\n",
    "- **Liczba przykładów:** ponad 75 000 receptur piwa\n",
    "- **Liczba atrybutów:** 23 kolumny opisujące właściwości każdej receptury\n",
    "- **Struktura:** Zbiór składa się z dwóch plików:\n",
    "  - `recipeData.csv` – główny zbiór zawierający informacje o recepturach piwa\n",
    "  - `styleData.csv` – uzupełniający zbiór zawierający opisy stylów piwa"
   ]
  },
  {
   "metadata": {},
   "cell_type": "markdown",
   "source": [
    "#### Wyniki eksploracyjnej analizy danych\n",
    "\n",
    "##### Rozkłady wartości atrybutów\n"
   ]
  },
  {
   "metadata": {},
   "cell_type": "code",
   "source": "generate_histograms_for_dataset(recipe_data, bins=30)",
   "outputs": [],
   "execution_count": null
  },
  {
   "metadata": {},
   "cell_type": "markdown",
   "source": [
    "##### Wnioski z histogramów rozkładów atrybutów numerycznych\n",
    "Atrybuty takie jak `Size(L)`, `OG`, `FG`, `ABV`, `IBU`, `BoilSize` posiadają rozkład, w którym możemy zaobserwować dużą koncentrację próbek w relatywnie małym przedziale."
   ]
  },
  {
   "metadata": {},
   "cell_type": "markdown",
   "source": "##### Korelacje pomiędzy wartościami atrybutów"
  },
  {
   "metadata": {},
   "cell_type": "code",
   "source": "generate_spearman_matrix(recipe_data)",
   "outputs": [],
   "execution_count": null
  },
  {
   "metadata": {},
   "cell_type": "markdown",
   "source": ""
  }
 ]
}
